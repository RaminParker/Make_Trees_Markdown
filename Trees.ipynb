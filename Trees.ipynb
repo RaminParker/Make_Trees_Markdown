{
  "nbformat": 4,
  "nbformat_minor": 0,
  "metadata": {
    "colab": {
      "name": "Trees.ipynb",
      "private_outputs": true,
      "provenance": [],
      "authorship_tag": "ABX9TyOvkXEXi6L2BVt5bfN+UXn2",
      "include_colab_link": true
    },
    "kernelspec": {
      "name": "python3",
      "display_name": "Python 3"
    },
    "language_info": {
      "name": "python"
    }
  },
  "cells": [
    {
      "cell_type": "markdown",
      "metadata": {
        "id": "view-in-github",
        "colab_type": "text"
      },
      "source": [
        "<a href=\"https://colab.research.google.com/github/RaminParker/Make_Trees_Markdown/blob/main/Trees.ipynb\" target=\"_parent\"><img src=\"https://colab.research.google.com/assets/colab-badge.svg\" alt=\"Open In Colab\"/></a>"
      ]
    },
    {
      "cell_type": "markdown",
      "source": [
        "Build nested trees for your GitHub profile."
      ],
      "metadata": {
        "id": "cH4MAdIII_U8"
      }
    },
    {
      "cell_type": "code",
      "source": [
        "!pip install rich"
      ],
      "metadata": {
        "id": "20YQzpZu8Sae"
      },
      "execution_count": null,
      "outputs": []
    },
    {
      "cell_type": "code",
      "execution_count": null,
      "metadata": {
        "id": "jvurQrAK8Hog"
      },
      "outputs": [],
      "source": [
        "from rich.console import Console\n",
        "from rich.tree import Tree"
      ]
    },
    {
      "cell_type": "code",
      "source": [
        "console = Console(record=True, width=100)"
      ],
      "metadata": {
        "id": "7PN3yXHI8Kwl"
      },
      "execution_count": null,
      "outputs": []
    },
    {
      "cell_type": "code",
      "source": [
        "tree = Tree(\"🙂 My name is Ramin!\", guide_style=\"bold bright_black\")"
      ],
      "metadata": {
        "id": "8OrqkXjp8cnb"
      },
      "execution_count": null,
      "outputs": []
    },
    {
      "cell_type": "markdown",
      "source": [
        "Build up the tree structure. Note: in order to make everything aligned you have to fine tune the markdown file at the end"
      ],
      "metadata": {
        "id": "dIR-VH6xJNIJ"
      }
    },
    {
      "cell_type": "code",
      "source": [
        "python_tree = tree.add(\"📦 Learning by doing \", guide_style=\"bright_black\")\n",
        "python_tree.add(\"[bold link=https://colab.research.google.com/drive/1P6tbmUbgPaMb7pTlFiAJxi2mevW7zXZx]Bad labels[/]                 - [bright_black]Identify bad labels.\")\n",
        "python_tree.add(\"[bold link=https://colab.research.google.com/drive/1_73P2HIUujZdSmAuTfOtpIamURsGfeZh]Labeling data[/]              - [bright_black]A nice way to label your data.\")\n",
        "python_tree.add(\"[bold link=https://github.com/RaminParker/Custom_Image_Classifier]Custom Image Classifier[/]    - [bright_black]Not yet finished image classifier.\")\n",
        "python_tree.add(\"[bold link=https://colab.research.google.com/drive/1Pb34YE2nswlHoRdQ9KwB2SfchiLBhIQA]Stock Validation[/]           - [bright_black]Get the realy important stock infos from Yahoo finance.\")\n",
        "python_tree.add(\"[bold link=https://colab.research.google.com/drive/1KbmCzuvamWShio24V3SIuOiejK3K0cXo]Train a Digit Classifier[/]   - [bright_black]Based on book Deep Learning with Fastai and Pytorch.\")\n",
        "python_tree.add(\"[bold link=https://colab.research.google.com/drive/1qo03bkpLhaLebURAXJys3oCiOK9j1oLE]Mushroom detector[/]          - [bright_black]Use Kaggle dataset and build a lightweight mushroom detector.\")\n",
        "python_tree.add(\"[bold link=https://colab.research.google.com/drive/108yqk7lhifxEeAO76p3uEjhbrVzOSKZy]Sentiment Classification[/]   - [bright_black]Test how well we can use Naive Bayes to for sentiment analysis.\")\n",
        "python_tree.add(\"[bold link=https://colab.research.google.com/drive/1xPIsj6o9Z8yBQWpM8pheGS27-nl9LQOe#scrollTo=6Oc6Dxi7drwj]Naive Bayes Classifier[/]     - [bright_black]Learning by doing. How does Naive Bayes work?\")\n",
        "python_tree.add(\"[bold link=https://colab.research.google.com/drive/1zwM_2bK5E6-oRurxX-vYip3fr5UXGrDV#scrollTo=yPHS2GBGdDxd]Fast-Food classifier[/]       - [bright_black]Classify food which was cooked by our Spinfood customers.\")\n",
        "python_tree.add(\"[bold link=https://colab.research.google.com/drive/1CXnAHBhzh50YPsy7wqJcoMZ59BhWNMjf]Read pdf-files[/]             - [bright_black]Import and merge pdf-files and extract text out of it.\")\n",
        "python_tree.add(\"[bold link=https://colab.research.google.com/drive/1xFLqf5iBcXOdBQibBpu5ebOaHo6LKhdR#scrollTo=QdUaq6kCJckn]PCA[/]                        - [bright_black]Understand the math behind PCA.\")\n",
        "python_tree.add(\"[bold link=https://github.com/RaminParker/Gradio-Templates]My Gradio templates[/]        - [bright_black]Share your Data Science Models with Gradio\")\n",
        "python_tree.add(\"[bold link=https://github.com/RaminParker/Huggingface_Text]HugginFace Collection[/]      - [bright_black]NLU with HuggingFace library\")\n",
        "python_tree.add(\"[bold link=https://github.com/RaminParker/bundesamt_fuer_statistik]Bundesamt für Statistik[/]    - [bright_black]Simple POC to request data from API\")\n",
        "\n",
        "\n",
        "talk_tree = tree.add(\"🎙️ Popular Talks\", guide_style=\"bright_black\")\n",
        "talk_tree.add(\"[bold link=https://en-gb.facebook.com/TeamBankAG/videos/n%C3%BCrnberg-digital-festival-2020/396917048079997/]Dancing with Qubits - Talk at Nürnberg Digital Festival 2020.[/]\")\n",
        "\n",
        "\n",
        "online_tree = tree.add(\"⭐ Online Projects\", guide_style=\"bright_black\")\n",
        "online_tree.add(\"[bold link=https://www.spinfood.de/]spinfood.de[/]                - [bright_black]Code of this project is in a private repository!\")\n",
        "online_tree.add(\"[bold link=https://www.passives-einkommen-aufbauen.com/mieten-und-bei-airbnb-vermieten/]Quadratwelt[/]                - [bright_black]We removed the website. Only left is the linked article.\")\n",
        "online_tree.add(\"[bold link=https://raminparker.github.io/blocktime/]Bitcoin Blog[/]               - [bright_black]My blog about Bitcoin.\")\n",
        "\n",
        "\n",
        "employer_tree = tree.add(\"👨‍💻 Employer\", guide_style=\"bright_black\")\n",
        "employer_tree.add(\"[bold link=https://www.teambank.de/]TeamBank[/]                   - [bright_black]Working on ML-projects (NLU, web scraping & classifications)\")\n",
        "employer_tree.add(\"[bold link=https://mpl.mpg.de/de/]Max Planck Institut[/]        - [bright_black]Ph.D student on the topic of twisted Photonic Crystal Fibres.\")"
      ],
      "metadata": {
        "id": "h7Qzge2x8d48"
      },
      "execution_count": null,
      "outputs": []
    },
    {
      "cell_type": "code",
      "source": [
        "console.print(tree)\n",
        "console.print(\"\")\n",
        "console.print(\"[green]Checkout my blog about [bold link=https://raminparker.github.io/blocktime/]Bitcoin[/]\")"
      ],
      "metadata": {
        "id": "6znh3bmu95SM"
      },
      "execution_count": null,
      "outputs": []
    },
    {
      "cell_type": "markdown",
      "source": [
        "Save data as markdown file"
      ],
      "metadata": {
        "id": "1QWr53w2JIzH"
      }
    },
    {
      "cell_type": "code",
      "source": [
        "CONSOLE_HTML_FORMAT = \"\"\"\\\n",
        "<pre style=\"font-family:Menlo,'DejaVu Sans Mono',consolas,'Courier New',monospace\">{code}</pre>\n",
        "\"\"\"\n",
        "\n",
        "console.save_html(\"README.md\", inline_styles=True, code_format=CONSOLE_HTML_FORMAT)"
      ],
      "metadata": {
        "id": "tZsvRo1s97j3"
      },
      "execution_count": null,
      "outputs": []
    },
    {
      "cell_type": "code",
      "source": [],
      "metadata": {
        "id": "x7DggsxG9-t8"
      },
      "execution_count": null,
      "outputs": []
    }
  ]
}